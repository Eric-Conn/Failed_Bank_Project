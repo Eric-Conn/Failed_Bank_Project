{
 "cells": [
  {
   "cell_type": "markdown",
   "id": "b43960bd",
   "metadata": {},
   "source": [
    "# Failed Bank Data Analysis\n",
    "\n",
    "For this project we will be analyzing the failed bank list. The source of this list is the FDIC website. The list includes bank failures since October 1, 2000."
   ]
  },
  {
   "cell_type": "markdown",
   "id": "c407f064",
   "metadata": {},
   "source": [
    "### Background\n",
    "\n",
    "In the context of this project, a failed bank, according to the FDIC, is an FDIC insured bank that is unable to meet its obligations to depositors and others.\n",
    "\n",
    "The source of this data is the FDIC failed bank list, which can be found on the FDIC website. "
   ]
  },
  {
   "cell_type": "code",
   "execution_count": 1,
   "id": "de1631c4",
   "metadata": {},
   "outputs": [],
   "source": [
    "import numpy as np\n",
    "import pandas as pd\n",
    "import matplotlib.pyplot as plt\n",
    "import seaborn as sns"
   ]
  },
  {
   "cell_type": "code",
   "execution_count": 16,
   "id": "2c72be98",
   "metadata": {},
   "outputs": [],
   "source": [
    "data = pd.read_csv('from_sheets_failed_banklist_data.csv')"
   ]
  },
  {
   "cell_type": "code",
   "execution_count": 17,
   "id": "03dca576",
   "metadata": {},
   "outputs": [
    {
     "data": {
      "text/html": [
       "<div>\n",
       "<style scoped>\n",
       "    .dataframe tbody tr th:only-of-type {\n",
       "        vertical-align: middle;\n",
       "    }\n",
       "\n",
       "    .dataframe tbody tr th {\n",
       "        vertical-align: top;\n",
       "    }\n",
       "\n",
       "    .dataframe thead th {\n",
       "        text-align: right;\n",
       "    }\n",
       "</style>\n",
       "<table border=\"1\" class=\"dataframe\">\n",
       "  <thead>\n",
       "    <tr style=\"text-align: right;\">\n",
       "      <th></th>\n",
       "      <th>Bank Name</th>\n",
       "      <th>City</th>\n",
       "      <th>State</th>\n",
       "      <th>Cert</th>\n",
       "      <th>Acquiring Institution</th>\n",
       "      <th>Closing Date</th>\n",
       "      <th>Fund</th>\n",
       "    </tr>\n",
       "  </thead>\n",
       "  <tbody>\n",
       "    <tr>\n",
       "      <th>0</th>\n",
       "      <td>Citizens Bank</td>\n",
       "      <td>Sac City</td>\n",
       "      <td>IA</td>\n",
       "      <td>8758</td>\n",
       "      <td>Iowa Trust &amp; Savings Bank</td>\n",
       "      <td>3-Nov-23</td>\n",
       "      <td>10545</td>\n",
       "    </tr>\n",
       "    <tr>\n",
       "      <th>1</th>\n",
       "      <td>Heartland Tri-State Bank</td>\n",
       "      <td>Elkhart</td>\n",
       "      <td>KS</td>\n",
       "      <td>25851</td>\n",
       "      <td>Dream First Bank, N.A.</td>\n",
       "      <td>28-Jul-23</td>\n",
       "      <td>10544</td>\n",
       "    </tr>\n",
       "    <tr>\n",
       "      <th>2</th>\n",
       "      <td>First Republic Bank</td>\n",
       "      <td>San Francisco</td>\n",
       "      <td>CA</td>\n",
       "      <td>59017</td>\n",
       "      <td>JPMorgan Chase Bank, N.A.</td>\n",
       "      <td>1-May-23</td>\n",
       "      <td>10543</td>\n",
       "    </tr>\n",
       "    <tr>\n",
       "      <th>3</th>\n",
       "      <td>Signature Bank</td>\n",
       "      <td>New York</td>\n",
       "      <td>NY</td>\n",
       "      <td>57053</td>\n",
       "      <td>Flagstar Bank, N.A.</td>\n",
       "      <td>12-Mar-23</td>\n",
       "      <td>10540</td>\n",
       "    </tr>\n",
       "    <tr>\n",
       "      <th>4</th>\n",
       "      <td>Silicon Valley Bank</td>\n",
       "      <td>Santa Clara</td>\n",
       "      <td>CA</td>\n",
       "      <td>24735</td>\n",
       "      <td>First–Citizens Bank &amp; Trust Company</td>\n",
       "      <td>10-Mar-23</td>\n",
       "      <td>10539</td>\n",
       "    </tr>\n",
       "  </tbody>\n",
       "</table>\n",
       "</div>"
      ],
      "text/plain": [
       "                 Bank Name           City  State   Cert   \\\n",
       "0             Citizens Bank       Sac City     IA   8758   \n",
       "1  Heartland Tri-State Bank        Elkhart     KS  25851   \n",
       "2       First Republic Bank  San Francisco     CA  59017   \n",
       "3            Signature Bank       New York     NY  57053   \n",
       "4       Silicon Valley Bank    Santa Clara     CA  24735   \n",
       "\n",
       "                Acquiring Institution  Closing Date    Fund  \n",
       "0            Iowa Trust & Savings Bank      3-Nov-23  10545  \n",
       "1               Dream First Bank, N.A.     28-Jul-23  10544  \n",
       "2            JPMorgan Chase Bank, N.A.      1-May-23  10543  \n",
       "3                  Flagstar Bank, N.A.     12-Mar-23  10540  \n",
       "4  First–Citizens Bank & Trust Company     10-Mar-23  10539  "
      ]
     },
     "execution_count": 17,
     "metadata": {},
     "output_type": "execute_result"
    }
   ],
   "source": [
    "data.head()"
   ]
  },
  {
   "cell_type": "code",
   "execution_count": 35,
   "id": "6ca5a64a",
   "metadata": {},
   "outputs": [],
   "source": [
    "data.columns = ['Bank Name', 'City', 'State', 'Cert', 'Acquiring Institution',\n",
    "       'Closing Date', 'Fund']"
   ]
  },
  {
   "cell_type": "code",
   "execution_count": 25,
   "id": "2bff4912",
   "metadata": {},
   "outputs": [
    {
     "data": {
      "text/plain": [
       "0    IA\n",
       "1    KS\n",
       "2    CA\n",
       "3    NY\n",
       "4    CA\n",
       "Name: State, dtype: object"
      ]
     },
     "execution_count": 25,
     "metadata": {},
     "output_type": "execute_result"
    }
   ],
   "source": [
    "data.State.head()"
   ]
  },
  {
   "cell_type": "markdown",
   "id": "52794ca6",
   "metadata": {},
   "source": [
    "What states has the most failed banks?"
   ]
  },
  {
   "cell_type": "code",
   "execution_count": 41,
   "id": "1e498be2",
   "metadata": {},
   "outputs": [
    {
     "data": {
      "text/plain": [
       "GA    93\n",
       "FL    76\n",
       "IL    69\n",
       "CA    43\n",
       "MN    23\n",
       "WA    19\n",
       "AZ    16\n",
       "MO    16\n",
       "MI    14\n",
       "TX    13\n",
       "Name: State, dtype: int64"
      ]
     },
     "execution_count": 41,
     "metadata": {},
     "output_type": "execute_result"
    }
   ],
   "source": [
    "data.State.value_counts().head(10)"
   ]
  },
  {
   "cell_type": "code",
   "execution_count": 42,
   "id": "6f347da8",
   "metadata": {},
   "outputs": [
    {
     "data": {
      "text/plain": [
       "44"
      ]
     },
     "execution_count": 42,
     "metadata": {},
     "output_type": "execute_result"
    }
   ],
   "source": [
    "data.State.nunique()"
   ]
  },
  {
   "cell_type": "markdown",
   "id": "c3c76855",
   "metadata": {},
   "source": [
    "From this dataset, we see a disparity in the number of failed banks for each state. The above output are the top 10 states with the most bank failures since 2000. We can plot these numbers to get a feel for the differences in magnitude."
   ]
  },
  {
   "cell_type": "code",
   "execution_count": 54,
   "id": "a69762c3",
   "metadata": {},
   "outputs": [
    {
     "data": {
      "text/plain": [
       "<AxesSubplot:ylabel='State'>"
      ]
     },
     "execution_count": 54,
     "metadata": {},
     "output_type": "execute_result"
    },
    {
     "data": {
      "image/png": "[encoded data removed]",
      "text/plain": [
       "<Figure size 640x480 with 1 Axes>"
      ]
     },
     "metadata": {},
     "output_type": "display_data"
    }
   ],
   "source": [
    "sns.barplot(x = data.State.value_counts().head(10).index,y = data.State.value_counts().head(10) )"
   ]
  },
  {
   "cell_type": "code",
   "execution_count": 79,
   "id": "df02189c",
   "metadata": {},
   "outputs": [],
   "source": [
    "state_counts = data.State.value_counts() "
   ]
  },
  {
   "cell_type": "code",
   "execution_count": 94,
   "id": "ef56d95f",
   "metadata": {},
   "outputs": [
    {
     "data": {
      "text/plain": [
       "1     5\n",
       "2     4\n",
       "3     4\n",
       "4     4\n",
       "7     4\n",
       "10    4\n",
       "16    2\n",
       "6     2\n",
       "12    2\n",
       "8     2\n",
       "9     1\n",
       "5     1\n",
       "93    1\n",
       "76    1\n",
       "13    1\n",
       "14    1\n",
       "19    1\n",
       "23    1\n",
       "43    1\n",
       "69    1\n",
       "11    1\n",
       "Name: State, dtype: int64"
      ]
     },
     "execution_count": 94,
     "metadata": {},
     "output_type": "execute_result"
    }
   ],
   "source": [
    "state_counts.value_counts() #given a number, counting how many states have that as their bank closure count."
   ]
  },
  {
   "cell_type": "code",
   "execution_count": 89,
   "id": "6c0b8ab6",
   "metadata": {},
   "outputs": [
    {
     "data": {
      "text/plain": [
       "34"
      ]
     },
     "execution_count": 89,
     "metadata": {},
     "output_type": "execute_result"
    }
   ],
   "source": [
    "state_counts[(state_counts <= 13) & (state_counts.index != 'TX')].shape[0]"
   ]
  },
  {
   "cell_type": "code",
   "execution_count": 92,
   "id": "17850980",
   "metadata": {},
   "outputs": [
    {
     "data": {
      "text/plain": [
       "0.7727272727272727"
      ]
     },
     "execution_count": 92,
     "metadata": {},
     "output_type": "execute_result"
    }
   ],
   "source": [
    "34/44"
   ]
  },
  {
   "cell_type": "markdown",
   "id": "bda2c7cf",
   "metadata": {},
   "source": [
    "We have $34/44 = 77\\%$ of states have less than 13 banks fail since October 1, 2000."
   ]
  },
  {
   "cell_type": "markdown",
   "id": "2d1556b6",
   "metadata": {},
   "source": [
    "### Conclusion\n",
    "\n",
    "Looking at the data, we can see disparities in the numbers of failed banks per state. The next step is to understand why these disparities exist. "
   ]
  }
 ],
 "metadata": {
  "kernelspec": {
   "display_name": "Python 3 (ipykernel)",
   "language": "python",
   "name": "python3"
  },
  "language_info": {
   "codemirror_mode": {
    "name": "ipython",
    "version": 3
   },
   "file_extension": ".py",
   "mimetype": "text/x-python",
   "name": "python",
   "nbconvert_exporter": "python",
   "pygments_lexer": "ipython3",
   "version": "3.8.13"
  }
 },
 "nbformat": 4,
 "nbformat_minor": 5
}
